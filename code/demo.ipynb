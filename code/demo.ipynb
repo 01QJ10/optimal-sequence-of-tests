{
 "cells": [
  {
   "cell_type": "code",
   "execution_count": 1,
   "id": "bf0d9a30-4480-408f-900e-a18a4a0c188a",
   "metadata": {},
   "outputs": [],
   "source": [
    "import numpy as np\n",
    "from itertools import combinations\n",
    "from module import *"
   ]
  },
  {
   "cell_type": "markdown",
   "id": "be2978d2-0aa4-4100-b51f-1b569552cd63",
   "metadata": {},
   "source": [
    "### Check Whether Covariance Matrix is Diagonally Dominant\n",
    "\n",
    "**Definition :** A covariance matrix is diagonally dominant if the sequence $ s_{K-1} = (l_0, l_1,\\dots,l_{k-1} )$ derived from the order $v_{l_0}^{-2} ≥ v_{l_1}^{-2} ≥ \\dots ≥ v_{l_{K-1}}^{-2}$ implies that $ \\mathbf{1' \\Sigma_{s_K}^{-1} 1 \\geq 1' \\Sigma_{s'_K}^{-1} 1} $ for any subsequence $ s_k \\neq s_k' \\text{ for any } k \\in \\{0, \\ldots, K-1\\} $"
   ]
  },
  {
   "cell_type": "markdown",
   "id": "3c464e4a-e077-45d9-b2f6-0e4f655944ef",
   "metadata": {},
   "source": [
    "### Lemma 9: Minimizing Posterior Variance\n",
    "\n",
    "Lemma 9 states that for any given covariance matrix $\\Sigma$, the optimal set of indices $L^*_{T}$ that minimizes the posterior variance $\\sigma^2_T$ at time $T$ is given by the formula:\n",
    "\n",
    "$$\n",
    "L^*_{T} = \\arg\\min_{a_0, \\ldots, a_T \\in K} \\left\\{ \\frac{1}{1' \\Sigma^{-1}_{a_0:a_T, a_0:a_T} 1} + \\sigma^2_0 \\right\\}\n",
    "$$"
   ]
  },
  {
   "cell_type": "code",
   "execution_count": 15,
   "id": "50a548ed-1cb2-4a4a-893e-ecbdf05cfb89",
   "metadata": {},
   "outputs": [
    {
     "data": {
      "text/plain": [
       "matrix([[0.7, 0.1, 0.1],\n",
       "        [0.1, 0.6, 0.1],\n",
       "        [0.1, 0.1, 0.5]])"
      ]
     },
     "metadata": {},
     "output_type": "display_data"
    },
    {
     "name": "stdout",
     "output_type": "stream",
     "text": [
      "[1, 2]\n",
      "[2 1 0]\n"
     ]
    }
   ],
   "source": [
    "seq_len = 2\n",
    "mat = np.matrix('0.7 0.1 0.1; 0.1 0.6 0.1; 0.1 0.1 0.5')\n",
    "display(mat)\n",
    "\n",
    "print(optimal_test_selection(mat, seq_len))\n",
    "for combo in combinations(range(mat.shape[0]), 3):\n",
    "    sub = mat[np.ix_(combo, combo)]\n",
    "    if is_diagonally_dominant(sub):\n",
    "        result_indices = list(combo)\n",
    "        break\n",
    "if not result_indices:\n",
    "    print(f\"No optimal (diagonally dominant) sequence found of length {length}.\")\n",
    "else:\n",
    "    sorted_idx = np.argsort(np.diag(mat))\n",
    "    print(sorted_idx)"
   ]
  }
 ],
 "metadata": {
  "kernelspec": {
   "display_name": "Python 3 (ipykernel)",
   "language": "python",
   "name": "python3"
  },
  "language_info": {
   "codemirror_mode": {
    "name": "ipython",
    "version": 3
   },
   "file_extension": ".py",
   "mimetype": "text/x-python",
   "name": "python",
   "nbconvert_exporter": "python",
   "pygments_lexer": "ipython3",
   "version": "3.11.5"
  }
 },
 "nbformat": 4,
 "nbformat_minor": 5
}
