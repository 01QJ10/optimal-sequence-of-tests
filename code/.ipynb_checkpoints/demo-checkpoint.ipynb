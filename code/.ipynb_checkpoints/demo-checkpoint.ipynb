{
 "cells": [
  {
   "cell_type": "code",
   "execution_count": 1,
   "id": "bf0d9a30-4480-408f-900e-a18a4a0c188a",
   "metadata": {},
   "outputs": [],
   "source": [
    "import numpy as np"
   ]
  },
  {
   "cell_type": "markdown",
   "id": "be2978d2-0aa4-4100-b51f-1b569552cd63",
   "metadata": {},
   "source": [
    "### Check Whether Covariance Matrix is Diagonally Dominant\n",
    "\n",
    "**Definition :** A covariance matrix is diagonally dominant if the sequence $ s_{K-1} = (l_0, l_1,\\dots,l_{k-1} )$ derived from the order $v_{l_0}^{-2} ≥ v_{l_1}^{-2} ≥ \\dots ≥ v_{l_{K-1}}^{-2}$ implies that $ \\mathbf{1' \\Sigma_{s_K}^{-1} 1 \\geq 1' \\Sigma_{s'_K}^{-1} 1} $ for any subsequence $ s_k \\neq s_k' \\text{ for any } k \\in \\{0, \\ldots, K-1\\} $"
   ]
  },
  {
   "cell_type": "code",
   "execution_count": 2,
   "id": "9b66249d-2c10-45f7-a68d-e0bf9c882f9e",
   "metadata": {},
   "outputs": [],
   "source": [
    "from itertools import combinations"
   ]
  },
  {
   "cell_type": "code",
   "execution_count": 47,
   "id": "af1d76ec-273b-4235-a101-02887ced1a0a",
   "metadata": {},
   "outputs": [],
   "source": [
    "def is_diagonally_dominant(cov_matrix):\n",
    "\n",
    "    \"\"\"\n",
    "    Diagonal dominance here is defined as the condition where the sum of the elements of the inverse\n",
    "    of the covariance submatrix formed by the top k variances is greater than or equal to the sum of the\n",
    "    elements of the inverse of any other submatrix of the same size.\n",
    "    \"\"\"\n",
    "    num_tests = len(cov_matrix)\n",
    "    variances = np.diag(cov_matrix)\n",
    "    ordered_indices = np.argsort(-variances)  # Indices sorted by descending variance\n",
    "\n",
    "    # Loop through all possible submatrix sizes\n",
    "    for k in range(1, num_tests + 1):\n",
    "        # Generate the submatrix from the top k ordered indices\n",
    "        main_indices = ordered_indices[:k]\n",
    "        main_submatrix = cov_matrix[np.ix_(main_indices, main_indices)]\n",
    "        #print(main_submatrix)\n",
    "        # Check invertibility and compute the sum of the inverse matrix\n",
    "        if np.linalg.det(main_submatrix) == 0:\n",
    "            raise ValueError(\"The main submatrix is not invertible.\")\n",
    "\n",
    "        \n",
    "            \n",
    "        # Compute the sum of the elements of the inverse of the main submatrix   \n",
    "        main_sum = np.sum(np.linalg.inv(main_submatrix))\n",
    "\n",
    "        # Compare with all other combinations of k indices\n",
    "        for sub_indices in combinations(range(num_tests), k-1):\n",
    "            if set(sub_indices) == set(main_indices):\n",
    "                continue    \n",
    "            submatrix = cov_matrix[np.ix_(sub_indices, sub_indices)]\n",
    "            #print(submatrix)\n",
    "            # Ensure submatrix is invertible\n",
    "            if np.linalg.det(submatrix) == 0:\n",
    "                continue  # Skip non-invertible submatrices\n",
    "\n",
    "            # Calculate the sum of the elements of the inverse of this submatrix\n",
    "            sub_sum = np.sum(np.linalg.inv(submatrix))\n",
    "            if main_sum < sub_sum:\n",
    "                return False\n",
    "\n",
    "    \n",
    "\n",
    "    return True"
   ]
  },
  {
   "cell_type": "code",
   "execution_count": 4,
   "id": "4772b0d7-c75e-41ad-9ccc-fea7f5b43102",
   "metadata": {},
   "outputs": [],
   "source": [
    "def find_optimal_indices(cov_matrix):\n",
    "    variances = np.diag(cov_matrix)\n",
    "    sorted_indices = np.argsort(-variances)\n",
    "\n",
    "    return sorted_indices"
   ]
  },
  {
   "cell_type": "markdown",
   "id": "3c464e4a-e077-45d9-b2f6-0e4f655944ef",
   "metadata": {},
   "source": [
    "### Lemma 9: Minimizing Posterior Variance\n",
    "\n",
    "Lemma 9 states that for any given covariance matrix $\\Sigma$, the optimal set of indices $L^*_{T}$ that minimizes the posterior variance $\\sigma^2_T$ at time $T$ is given by the formula:\n",
    "\n",
    "$$\n",
    "L^*_{T} = \\arg\\min_{a_0, \\ldots, a_T \\in K} \\left\\{ \\frac{1}{1' \\Sigma^{-1}_{a_0:a_T, a_0:a_T} 1} + \\sigma^2_0 \\right\\}\n",
    "$$"
   ]
  },
  {
   "cell_type": "code",
   "execution_count": 5,
   "id": "946fcdff-beec-41f2-a0e3-7f9126294510",
   "metadata": {},
   "outputs": [],
   "source": [
    "def optimal_test_selection(cov_matrix, T):\n",
    "    \"\"\"\n",
    "    Implements the optimal policy based on Lemma 9 and Theorem 1. It computes the optimal subset \n",
    "    of indices from a covariance matrix that maximizes the sum of elements in the inverse of the \n",
    "    submatrix formed by these indices, minimizing 1/inverse sum, and thus minimizing the effective variance.\n",
    "\n",
    "\n",
    "    Returns:\n",
    "    list: Sequence of indices representing the optimal selection of tests over time.\n",
    "    \"\"\"\n",
    "    num_tests = len(cov_matrix)  # Total number of available tests\n",
    "    best_indices = None  # To store the indices of the optimal subset of tests\n",
    "    max_sum_inverse = -np.inf  # Initialize with a very small number to ensure any sum will be larger\n",
    "\n",
    "    # Evaluate all combinations of test indices to find the one that maximizes the sum of the inverse submatrix\n",
    "    for indices in combinations(range(num_tests), T):\n",
    "        submatrix = cov_matrix[np.ix_(indices, indices)]  # Extract the submatrix for the current combination of indices\n",
    "        try:\n",
    "            # Calculate the inverse of the submatrix\n",
    "            inverse_submatrix = np.linalg.inv(submatrix)\n",
    "            # Sum of all elements in the inverse matrix, equivalent to 1' * inv(Sigma) * 1 for a vector of ones\n",
    "            sum_inverse = np.sum(inverse_submatrix)\n",
    "\n",
    "            # Check if the current sum is greater than the previously found maximum\n",
    "            if sum_inverse > max_sum_inverse:\n",
    "                max_sum_inverse = sum_inverse  # Update the maximum sum found\n",
    "                best_indices = indices  # Update the best indices corresponding to this maximum\n",
    "        except np.linalg.LinAlgError:\n",
    "            continue  # Skip this combination if the matrix is non-invertible\n",
    "\n",
    "    return list(best_indices)  # Return the list of indices for the optimal subset"
   ]
  },
  {
   "cell_type": "code",
   "execution_count": 80,
   "id": "d5b6db3e-df6d-4eb7-bd2b-33797c327406",
   "metadata": {},
   "outputs": [],
   "source": [
    "mat = np.matrix('0.7 0.1 0.1; 0.1 0.6 0.1; 0.1 0.1 0.5')"
   ]
  },
  {
   "cell_type": "code",
   "execution_count": 81,
   "id": "aadb6945-e288-49c2-8c30-800aba5fc489",
   "metadata": {},
   "outputs": [
    {
     "data": {
      "text/plain": [
       "matrix([[0.7, 0.3, 0.3],\n",
       "        [0.3, 0.6, 0.3],\n",
       "        [0.3, 0.3, 0.5]])"
      ]
     },
     "execution_count": 81,
     "metadata": {},
     "output_type": "execute_result"
    }
   ],
   "source": [
    "mat"
   ]
  },
  {
   "cell_type": "code",
   "execution_count": 82,
   "id": "1f89c932-056a-48af-9016-20d66335f794",
   "metadata": {},
   "outputs": [
    {
     "data": {
      "text/plain": [
       "[1, 2]"
      ]
     },
     "execution_count": 82,
     "metadata": {},
     "output_type": "execute_result"
    }
   ],
   "source": [
    "optimal_test_selection(mat, 2)"
   ]
  },
  {
   "cell_type": "code",
   "execution_count": 83,
   "id": "1238b2d8-a2f5-4a03-8e8c-ced473caa47c",
   "metadata": {},
   "outputs": [
    {
     "data": {
      "text/plain": [
       "True"
      ]
     },
     "execution_count": 83,
     "metadata": {},
     "output_type": "execute_result"
    }
   ],
   "source": [
    "is_diagonally_dominant(mat)"
   ]
  },
  {
   "cell_type": "code",
   "execution_count": null,
   "id": "e6ed7b46-8c59-4687-916d-431afd7131a2",
   "metadata": {},
   "outputs": [],
   "source": []
  }
 ],
 "metadata": {
  "kernelspec": {
   "display_name": "Python 3 (ipykernel)",
   "language": "python",
   "name": "python3"
  },
  "language_info": {
   "codemirror_mode": {
    "name": "ipython",
    "version": 3
   },
   "file_extension": ".py",
   "mimetype": "text/x-python",
   "name": "python",
   "nbconvert_exporter": "python",
   "pygments_lexer": "ipython3",
   "version": "3.11.5"
  }
 },
 "nbformat": 4,
 "nbformat_minor": 5
}
